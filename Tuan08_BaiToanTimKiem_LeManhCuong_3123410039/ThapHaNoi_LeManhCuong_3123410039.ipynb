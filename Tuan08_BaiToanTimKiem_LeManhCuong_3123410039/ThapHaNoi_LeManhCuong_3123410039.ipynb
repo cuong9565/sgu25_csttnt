{
 "cells": [
  {
   "cell_type": "markdown",
   "metadata": {},
   "source": [
    "##### Họ và tên: Lê Mạnh Cường\n",
    "##### MSSV: 3123410039"
   ]
  },
  {
   "cell_type": "markdown",
   "metadata": {},
   "source": [
    "# Bài toán tháp Hà Nội (Thuật toán A*)"
   ]
  },
  {
   "cell_type": "markdown",
   "metadata": {},
   "source": [
    "### Bước 1: import thư viện"
   ]
  },
  {
   "cell_type": "code",
   "execution_count": 1,
   "metadata": {},
   "outputs": [],
   "source": [
    "from collections import deque\n",
    "from queue import PriorityQueue"
   ]
  },
  {
   "cell_type": "markdown",
   "metadata": {},
   "source": [
    "### Bước 2: Khởi tạo số đĩa, tạo hàm Heristic, struct node"
   ]
  },
  {
   "cell_type": "code",
   "execution_count": 3,
   "metadata": {},
   "outputs": [],
   "source": [
    "n = 0\n",
    "\n",
    "def heuristic(c):\n",
    "    t, f, i = 0, 0, n\n",
    "    for x in reversed(c[2]):\n",
    "        if x==i: t+=1\n",
    "        else: f+=1\n",
    "        i-=1\n",
    "    return f + (n-t)\n",
    "\n",
    "class node:\n",
    "    def __init__(self, c, g):\n",
    "        self.c = c\n",
    "        self.g = g\n",
    "        self.h = heuristic(c)\n",
    "        self.f = g + self.h\n",
    "    def __str__(self):\n",
    "        return f\"Bước {self.g}: {list(map(list,self.c))}\"\n",
    "    def __hash__(self):\n",
    "        return hash(tuple(map(tuple,self.c)))\n",
    "    def __eq__(self, other):\n",
    "        return isinstance(other, node) and self.c == other.c\n",
    "    def __lt__(self, other):\n",
    "        return self.f < other.f"
   ]
  },
  {
   "cell_type": "markdown",
   "metadata": {},
   "source": [
    "### Bước 3: Tạo hàm chạy thuật toán tháp Hà Nội"
   ]
  },
  {
   "cell_type": "code",
   "execution_count": 4,
   "metadata": {},
   "outputs": [],
   "source": [
    "def HaNoiTowel(u, end):\n",
    "    pq = PriorityQueue()\n",
    "    pq.put(u)\n",
    "    visited = set()\n",
    "    visited.add(u)\n",
    "    parent = {}\n",
    "    parent[u] = -1\n",
    "    while(not pq.empty()):\n",
    "        u = pq.get()\n",
    "        if u.c == end.c:\n",
    "            end = u\n",
    "            break\n",
    "        for i in range(3):\n",
    "            for j in range(3): \n",
    "                if i!=j:\n",
    "                    v_c = [deque(x) for x in u.c]\n",
    "                    v_g = u.g + 1\n",
    "                    if v_c[i] and ((not v_c[j]) or (v_c[i][0] < v_c[j][0])):\n",
    "                        v_c[j].appendleft(v_c[i].popleft())\n",
    "                        v = node(v_c, v_g)\n",
    "                        if v not in visited:\n",
    "                            visited.add(v)\n",
    "                            pq.put(v)\n",
    "                            parent[v] = u\n",
    "    res = []\n",
    "    x = end\n",
    "    while(x!=-1):\n",
    "        res.append(x)\n",
    "        x = parent[x]\n",
    "    for i in reversed(res):\n",
    "        print(i)"
   ]
  },
  {
   "cell_type": "markdown",
   "metadata": {},
   "source": [
    "### Bước 4: chạy chương trình"
   ]
  },
  {
   "cell_type": "code",
   "execution_count": 5,
   "metadata": {},
   "outputs": [
    {
     "name": "stdout",
     "output_type": "stream",
     "text": [
      "Bước 0: [[1, 2, 3, 4, 5], [], []]\n",
      "Bước 1: [[2, 3, 4, 5], [], [1]]\n",
      "Bước 2: [[3, 4, 5], [2], [1]]\n",
      "Bước 3: [[3, 4, 5], [1, 2], []]\n",
      "Bước 4: [[4, 5], [1, 2], [3]]\n",
      "Bước 5: [[1, 4, 5], [2], [3]]\n",
      "Bước 6: [[1, 4, 5], [], [2, 3]]\n",
      "Bước 7: [[4, 5], [], [1, 2, 3]]\n",
      "Bước 8: [[5], [4], [1, 2, 3]]\n",
      "Bước 9: [[5], [1, 4], [2, 3]]\n",
      "Bước 10: [[2, 5], [1, 4], [3]]\n",
      "Bước 11: [[1, 2, 5], [4], [3]]\n",
      "Bước 12: [[1, 2, 5], [3, 4], []]\n",
      "Bước 13: [[2, 5], [3, 4], [1]]\n",
      "Bước 14: [[5], [2, 3, 4], [1]]\n",
      "Bước 15: [[5], [1, 2, 3, 4], []]\n",
      "Bước 16: [[], [1, 2, 3, 4], [5]]\n",
      "Bước 17: [[1], [2, 3, 4], [5]]\n",
      "Bước 18: [[1], [3, 4], [2, 5]]\n",
      "Bước 19: [[], [3, 4], [1, 2, 5]]\n",
      "Bước 20: [[3], [4], [1, 2, 5]]\n",
      "Bước 21: [[3], [1, 4], [2, 5]]\n",
      "Bước 22: [[2, 3], [1, 4], [5]]\n",
      "Bước 23: [[1, 2, 3], [4], [5]]\n",
      "Bước 24: [[1, 2, 3], [], [4, 5]]\n",
      "Bước 25: [[2, 3], [], [1, 4, 5]]\n",
      "Bước 26: [[3], [2], [1, 4, 5]]\n",
      "Bước 27: [[3], [1, 2], [4, 5]]\n",
      "Bước 28: [[], [1, 2], [3, 4, 5]]\n",
      "Bước 29: [[1], [2], [3, 4, 5]]\n",
      "Bước 30: [[1], [], [2, 3, 4, 5]]\n",
      "Bước 31: [[], [], [1, 2, 3, 4, 5]]\n"
     ]
    }
   ],
   "source": [
    "n = int(input(\"Mởi bạn nhập số đĩa: \"))\n",
    "\n",
    "start = node([deque(range(1, n+1)), deque(), deque()], 0)\n",
    "end = node([deque(), deque(), deque(range(1, n+1))], 0)\n",
    "\n",
    "HaNoiTowel(start, end)"
   ]
  },
  {
   "cell_type": "markdown",
   "metadata": {},
   "source": [
    "# Kết thúc"
   ]
  }
 ],
 "metadata": {
  "kernelspec": {
   "display_name": "myenv",
   "language": "python",
   "name": "python3"
  },
  "language_info": {
   "codemirror_mode": {
    "name": "ipython",
    "version": 3
   },
   "file_extension": ".py",
   "mimetype": "text/x-python",
   "name": "python",
   "nbconvert_exporter": "python",
   "pygments_lexer": "ipython3",
   "version": "3.13.1"
  }
 },
 "nbformat": 4,
 "nbformat_minor": 2
}
