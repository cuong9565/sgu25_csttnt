{
 "cells": [
  {
   "cell_type": "markdown",
   "metadata": {},
   "source": [
    "##### Họ và tên: Lê Mạnh Cường\n",
    "##### MSSV: 3123410039"
   ]
  },
  {
   "cell_type": "markdown",
   "metadata": {},
   "source": [
    "# Bài toán tháp Hà Nội (Thuật toán A*)"
   ]
  },
  {
   "cell_type": "markdown",
   "metadata": {},
   "source": [
    "### Bước 1: import thư viện"
   ]
  },
  {
   "cell_type": "code",
   "execution_count": 1,
   "metadata": {},
   "outputs": [],
   "source": [
    "from collections import deque\n",
    "from queue import PriorityQueue"
   ]
  },
  {
   "cell_type": "markdown",
   "metadata": {},
   "source": [
    "### Bước 2: Khởi tạo số đĩa, tạo hàm Heristic, struct node"
   ]
  },
  {
   "cell_type": "code",
   "execution_count": null,
   "metadata": {},
   "outputs": [],
   "source": [
    "n = 0\n",
    "\n",
    "def heristic(c):\n",
    "    t, f, i = 0, 0, n\n",
    "    for x in reversed(c[2]):\n",
    "        if x==i: t+=1\n",
    "        else: f+=1\n",
    "        i-=1\n",
    "    return f + (n-t)\n",
    "\n",
    "class node:\n",
    "    def __init__(self, c, g):\n",
    "        self.c = c\n",
    "        self.g = g\n",
    "        self.h = heristic(c)\n",
    "        self.f = g + self.h\n",
    "    def __str__(self):\n",
    "        return f\"Bước {self.g}: {list(map(list,self.c))}\"\n",
    "    def __hash__(self):\n",
    "        return hash(tuple(map(tuple,self.c)))\n",
    "    def __eq__(self, other):\n",
    "        return isinstance(other, node) and self.c == other.c\n",
    "    def __lt__(self, other):\n",
    "        return self.f < other.f"
   ]
  },
  {
   "cell_type": "markdown",
   "metadata": {},
   "source": [
    "### Bước 3: Tạo hàm chạy thuật toán tháp Hà Nội"
   ]
  },
  {
   "cell_type": "code",
   "execution_count": null,
   "metadata": {},
   "outputs": [],
   "source": [
    "def HaNoiTowel(u, end):\n",
    "    pq = PriorityQueue()\n",
    "    pq.put(u)\n",
    "    visited = set()\n",
    "    visited.add(u)\n",
    "    parent = {}\n",
    "    parent[u] = -1\n",
    "    while(not pq.empty()):\n",
    "        u = pq.get()\n",
    "        if u.c == end.c:\n",
    "            end = u\n",
    "            break\n",
    "        for i in range(3):\n",
    "            for j in range(3): \n",
    "                if i!=j:\n",
    "                    v_c = [deque(x) for x in u.c]\n",
    "                    v_g = u.g + 1\n",
    "                    if v_c[i] and ((not v_c[j]) or (v_c[i][0] < v_c[j][0])):\n",
    "                        v_c[j].appendleft(v_c[i].popleft())\n",
    "                        v = node(v_c, v_g)\n",
    "                        if v not in visited:\n",
    "                            visited.add(v)\n",
    "                            pq.put(v)\n",
    "                            parent[v] = u\n",
    "    res = []\n",
    "    x = end\n",
    "    while(x!=-1):\n",
    "        res.append(x)\n",
    "        x = parent[x]\n",
    "    for i in reversed(res):\n",
    "        print(i)"
   ]
  },
  {
   "cell_type": "markdown",
   "metadata": {},
   "source": [
    "### Bước 4: chạy chương trình"
   ]
  },
  {
   "cell_type": "code",
   "execution_count": 17,
   "metadata": {},
   "outputs": [
    {
     "ename": "KeyboardInterrupt",
     "evalue": "",
     "output_type": "error",
     "traceback": [
      "\u001b[31m---------------------------------------------------------------------------\u001b[39m",
      "\u001b[31mKeyboardInterrupt\u001b[39m                         Traceback (most recent call last)",
      "\u001b[36mCell\u001b[39m\u001b[36m \u001b[39m\u001b[32mIn[17]\u001b[39m\u001b[32m, line 6\u001b[39m\n\u001b[32m      3\u001b[39m start = node([deque(\u001b[38;5;28mrange\u001b[39m(\u001b[32m1\u001b[39m, n+\u001b[32m1\u001b[39m)), deque(), deque()], \u001b[32m0\u001b[39m)\n\u001b[32m      4\u001b[39m end = node([deque(), deque(), deque(\u001b[38;5;28mrange\u001b[39m(\u001b[32m1\u001b[39m, n+\u001b[32m1\u001b[39m))], \u001b[32m0\u001b[39m)\n\u001b[32m----> \u001b[39m\u001b[32m6\u001b[39m \u001b[43mHaNoiTowel\u001b[49m\u001b[43m(\u001b[49m\u001b[43mstart\u001b[49m\u001b[43m,\u001b[49m\u001b[43m \u001b[49m\u001b[43mend\u001b[49m\u001b[43m)\u001b[49m\n",
      "\u001b[36mCell\u001b[39m\u001b[36m \u001b[39m\u001b[32mIn[14]\u001b[39m\u001b[32m, line 27\u001b[39m, in \u001b[36mHaNoiTowel\u001b[39m\u001b[34m(u, end)\u001b[39m\n\u001b[32m     25\u001b[39m \u001b[38;5;28;01mwhile\u001b[39;00m(x!=-\u001b[32m1\u001b[39m):\n\u001b[32m     26\u001b[39m     res.append(x)\n\u001b[32m---> \u001b[39m\u001b[32m27\u001b[39m     x = \u001b[43mparent\u001b[49m\u001b[43m[\u001b[49m\u001b[43mx\u001b[49m\u001b[43m]\u001b[49m\n\u001b[32m     28\u001b[39m \u001b[38;5;28;01mfor\u001b[39;00m i \u001b[38;5;129;01min\u001b[39;00m \u001b[38;5;28mreversed\u001b[39m(res):\n\u001b[32m     29\u001b[39m     \u001b[38;5;28mprint\u001b[39m(i)\n",
      "\u001b[36mCell\u001b[39m\u001b[36m \u001b[39m\u001b[32mIn[6]\u001b[39m\u001b[32m, line 20\u001b[39m, in \u001b[36mnode.__hash__\u001b[39m\u001b[34m(self)\u001b[39m\n\u001b[32m     19\u001b[39m \u001b[38;5;28;01mdef\u001b[39;00m\u001b[38;5;250m \u001b[39m\u001b[34m__hash__\u001b[39m(\u001b[38;5;28mself\u001b[39m):\n\u001b[32m---> \u001b[39m\u001b[32m20\u001b[39m     \u001b[38;5;28;01mreturn\u001b[39;00m \u001b[38;5;28mhash\u001b[39m(\u001b[38;5;28mtuple\u001b[39m(\u001b[38;5;28;43mmap\u001b[39;49m\u001b[43m(\u001b[49m\u001b[38;5;28;43mtuple\u001b[39;49m\u001b[43m,\u001b[49m\u001b[38;5;28;43mself\u001b[39;49m\u001b[43m.\u001b[49m\u001b[43mc\u001b[49m\u001b[43m)\u001b[49m))\n",
      "\u001b[31mKeyboardInterrupt\u001b[39m: "
     ]
    }
   ],
   "source": [
    "n = int(input(\"Mởi bạn nhập số đĩa: \"))\n",
    "\n",
    "start = node([deque(range(1, n+1)), deque(), deque()], 0)\n",
    "end = node([deque(), deque(), deque(range(1, n+1))], 0)\n",
    "\n",
    "HaNoiTowel(start, end)"
   ]
  }
 ],
 "metadata": {
  "kernelspec": {
   "display_name": "myenv",
   "language": "python",
   "name": "python3"
  },
  "language_info": {
   "codemirror_mode": {
    "name": "ipython",
    "version": 3
   },
   "file_extension": ".py",
   "mimetype": "text/x-python",
   "name": "python",
   "nbconvert_exporter": "python",
   "pygments_lexer": "ipython3",
   "version": "3.13.1"
  }
 },
 "nbformat": 4,
 "nbformat_minor": 2
}
