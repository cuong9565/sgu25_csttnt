{
 "cells": [
  {
   "cell_type": "markdown",
   "metadata": {},
   "source": [
    "##### Họ và tên: Lê Mạnh Cường\n",
    "##### MSSV: 3123410039"
   ]
  },
  {
   "cell_type": "markdown",
   "metadata": {},
   "source": [
    "# Bài toán Taci Hà Nội (Thuật toán A*)"
   ]
  },
  {
   "cell_type": "markdown",
   "metadata": {},
   "source": [
    "### Bước 1: import thư viện"
   ]
  },
  {
   "cell_type": "code",
   "execution_count": 1,
   "metadata": {},
   "outputs": [],
   "source": [
    "from collections import deque\n",
    "from queue import PriorityQueue\n",
    "import numpy as np"
   ]
  },
  {
   "cell_type": "markdown",
   "metadata": {},
   "source": [
    "### Bước 2: Khởi tạo biến, heuristic và trạng thái"
   ]
  },
  {
   "cell_type": "code",
   "execution_count": 2,
   "metadata": {},
   "outputs": [],
   "source": [
    "lsStart = []\n",
    "lsEnd = []\n",
    "move = [[0,1],[0,-1],[1,0],[-1,0]]\n",
    "\n",
    "def heuristic(a, lsEnd):\n",
    "    i, cnt = 1, 0\n",
    "    for i in range(3):\n",
    "        for j in range(3):\n",
    "            if lsEnd[i][j]==0: continue\n",
    "            cnt += (a[i][j] == lsEnd[i][j])\n",
    "            pass\n",
    "    return 8 - cnt\n",
    "\n",
    "class node:\n",
    "    def __init__(self, a, g, x, y):\n",
    "        self.a = tuple(map(tuple, a))\n",
    "        self.x = x\n",
    "        self.y = y\n",
    "        self.g = g\n",
    "        self.h = heuristic(a, lsEnd)\n",
    "        self.f = g + self.h\n",
    "    def __hash__(self):\n",
    "        return hash((self.a))\n",
    "    def __str__(self):\n",
    "        return f\"Bước {self.g}: g={self.g}; h={self.h}; f={self.f}\\n{np.matrix(self.a)}\"\n",
    "    def __eq__(self, other):\n",
    "        return isinstance(other, node) and self.a == other.a\n",
    "    def __lt__(self, other):\n",
    "        return self.f < other.f"
   ]
  },
  {
   "cell_type": "markdown",
   "metadata": {},
   "source": [
    "### Bước 3: Khởi tạo hàm Taci"
   ]
  },
  {
   "cell_type": "code",
   "execution_count": 3,
   "metadata": {},
   "outputs": [],
   "source": [
    "def Taci(start, end):\n",
    "    res = 0\n",
    "    pq = PriorityQueue()\n",
    "    pq.put(start)\n",
    "    visited = set()\n",
    "    visited.add(start)\n",
    "    parent = {}\n",
    "    parent[start] = -1\n",
    "    while not pq.empty():\n",
    "        u = pq.get()\n",
    "        if u==end:\n",
    "            end = u\n",
    "            res = 1\n",
    "            break\n",
    "        for mv in move:\n",
    "            x = mv[0] + u.x\n",
    "            y = mv[1] + u.y\n",
    "            if x>=0 and x<3 and y>=0 and y<3:\n",
    "                v_a = list(map(list, u.a))\n",
    "                v_a[x][y], v_a[u.x][u.y] = v_a[u.x][u.y], v_a[x][y]\n",
    "                v = node(v_a, u.g+1, x, y)\n",
    "                if v not in visited:\n",
    "                    visited.add(v)\n",
    "                    pq.put(v)\n",
    "                    parent[v] = u\n",
    "    if res == 1:\n",
    "        i = end\n",
    "        res = []\n",
    "        while i!=-1:\n",
    "            res.append(i)\n",
    "            i = parent[i]\n",
    "        for x in reversed(res):\n",
    "            print(x)\n",
    "    else: print(\"Không tìm thấy đường đi!!!\")"
   ]
  },
  {
   "cell_type": "markdown",
   "metadata": {},
   "source": [
    "### Bước 4: Chạy chương trình"
   ]
  },
  {
   "cell_type": "code",
   "execution_count": 4,
   "metadata": {},
   "outputs": [
    {
     "name": "stdout",
     "output_type": "stream",
     "text": [
      "Bước 0: g=0; h=7; f=7\n",
      "[[7 2 5]\n",
      " [1 8 4]\n",
      " [0 3 6]]\n",
      "Bước 1: g=1; h=7; f=8\n",
      "[[7 2 5]\n",
      " [0 8 4]\n",
      " [1 3 6]]\n",
      "Bước 2: g=2; h=7; f=9\n",
      "[[7 2 5]\n",
      " [8 0 4]\n",
      " [1 3 6]]\n",
      "Bước 3: g=3; h=7; f=10\n",
      "[[7 2 5]\n",
      " [8 3 4]\n",
      " [1 0 6]]\n",
      "Bước 4: g=4; h=7; f=11\n",
      "[[7 2 5]\n",
      " [8 3 4]\n",
      " [0 1 6]]\n",
      "Bước 5: g=5; h=7; f=12\n",
      "[[7 2 5]\n",
      " [0 3 4]\n",
      " [8 1 6]]\n",
      "Bước 6: g=6; h=7; f=13\n",
      "[[0 2 5]\n",
      " [7 3 4]\n",
      " [8 1 6]]\n",
      "Bước 7: g=7; h=8; f=15\n",
      "[[2 0 5]\n",
      " [7 3 4]\n",
      " [8 1 6]]\n",
      "Bước 8: g=8; h=8; f=16\n",
      "[[2 3 5]\n",
      " [7 0 4]\n",
      " [8 1 6]]\n",
      "Bước 9: g=9; h=8; f=17\n",
      "[[2 3 5]\n",
      " [7 1 4]\n",
      " [8 0 6]]\n",
      "Bước 10: g=10; h=7; f=17\n",
      "[[2 3 5]\n",
      " [7 1 4]\n",
      " [0 8 6]]\n",
      "Bước 11: g=11; h=6; f=17\n",
      "[[2 3 5]\n",
      " [0 1 4]\n",
      " [7 8 6]]\n",
      "Bước 12: g=12; h=6; f=18\n",
      "[[2 3 5]\n",
      " [1 0 4]\n",
      " [7 8 6]]\n",
      "Bước 13: g=13; h=6; f=19\n",
      "[[2 3 5]\n",
      " [1 4 0]\n",
      " [7 8 6]]\n",
      "Bước 14: g=14; h=6; f=20\n",
      "[[2 3 0]\n",
      " [1 4 5]\n",
      " [7 8 6]]\n",
      "Bước 15: g=15; h=5; f=20\n",
      "[[2 0 3]\n",
      " [1 4 5]\n",
      " [7 8 6]]\n",
      "Bước 16: g=16; h=4; f=20\n",
      "[[0 2 3]\n",
      " [1 4 5]\n",
      " [7 8 6]]\n",
      "Bước 17: g=17; h=3; f=20\n",
      "[[1 2 3]\n",
      " [0 4 5]\n",
      " [7 8 6]]\n",
      "Bước 18: g=18; h=2; f=20\n",
      "[[1 2 3]\n",
      " [4 0 5]\n",
      " [7 8 6]]\n",
      "Bước 19: g=19; h=1; f=20\n",
      "[[1 2 3]\n",
      " [4 5 0]\n",
      " [7 8 6]]\n",
      "Bước 20: g=20; h=0; f=20\n",
      "[[1 2 3]\n",
      " [4 5 6]\n",
      " [7 8 0]]\n"
     ]
    }
   ],
   "source": [
    "lsStart = []\n",
    "lsEnd = [[1,2,3],[4,5,6],[7,8,0]]\n",
    "start = None\n",
    "end = node(lsEnd, 0, 2, 2)\n",
    "\n",
    "for i in range(1, 3+1):\n",
    "    ls = list(map(int, input(f\"Nhập các số phân biệt từ 0 -> 8. Mời nhập trạng thái dòng {i}: \").split(' ')))\n",
    "    lsStart.append(ls)\n",
    "\n",
    "for i in range(3):\n",
    "    for j in range(3):\n",
    "        if(lsStart[i][j]==0):\n",
    "            start = node(lsStart, 0, i, j)\n",
    "            break\n",
    "\n",
    "Taci(start, end)"
   ]
  },
  {
   "cell_type": "markdown",
   "metadata": {},
   "source": [
    "# Kết thúc"
   ]
  }
 ],
 "metadata": {
  "kernelspec": {
   "display_name": "myenv",
   "language": "python",
   "name": "python3"
  },
  "language_info": {
   "codemirror_mode": {
    "name": "ipython",
    "version": 3
   },
   "file_extension": ".py",
   "mimetype": "text/x-python",
   "name": "python",
   "nbconvert_exporter": "python",
   "pygments_lexer": "ipython3",
   "version": "3.13.1"
  }
 },
 "nbformat": 4,
 "nbformat_minor": 2
}
